{
  "nbformat": 4,
  "nbformat_minor": 0,
  "metadata": {
    "colab": {
      "name": "Surprise_combinations.ipynb",
      "provenance": [],
      "collapsed_sections": [],
      "toc_visible": true,
      "include_colab_link": true
    },
    "kernelspec": {
      "name": "python3",
      "display_name": "Python 3"
    }
  },
  "cells": [
    {
      "cell_type": "markdown",
      "metadata": {
        "id": "view-in-github",
        "colab_type": "text"
      },
      "source": [
        "<a href=\"https://colab.research.google.com/github/dhruvmun/MDM-Recommendation-System/blob/master/Surprise_combinations.ipynb\" target=\"_parent\"><img src=\"https://colab.research.google.com/assets/colab-badge.svg\" alt=\"Open In Colab\"/></a>"
      ]
    },
    {
      "cell_type": "code",
      "metadata": {
        "id": "fi8oBmWXD1rA",
        "colab_type": "code",
        "outputId": "3e88cec1-4402-4e84-a8c4-8a434c134cb9",
        "colab": {
          "base_uri": "https://localhost:8080/",
          "height": 306
        }
      },
      "source": [
        "!pip install surprise"
      ],
      "execution_count": 1,
      "outputs": [
        {
          "output_type": "stream",
          "text": [
            "Collecting surprise\n",
            "  Downloading https://files.pythonhosted.org/packages/61/de/e5cba8682201fcf9c3719a6fdda95693468ed061945493dea2dd37c5618b/surprise-0.1-py2.py3-none-any.whl\n",
            "Collecting scikit-surprise\n",
            "\u001b[?25l  Downloading https://files.pythonhosted.org/packages/f5/da/b5700d96495fb4f092be497f02492768a3d96a3f4fa2ae7dea46d4081cfa/scikit-surprise-1.1.0.tar.gz (6.4MB)\n",
            "\u001b[K     |████████████████████████████████| 6.5MB 3.3MB/s \n",
            "\u001b[?25hRequirement already satisfied: joblib>=0.11 in /usr/local/lib/python3.6/dist-packages (from scikit-surprise->surprise) (0.14.1)\n",
            "Requirement already satisfied: numpy>=1.11.2 in /usr/local/lib/python3.6/dist-packages (from scikit-surprise->surprise) (1.18.2)\n",
            "Requirement already satisfied: scipy>=1.0.0 in /usr/local/lib/python3.6/dist-packages (from scikit-surprise->surprise) (1.4.1)\n",
            "Requirement already satisfied: six>=1.10.0 in /usr/local/lib/python3.6/dist-packages (from scikit-surprise->surprise) (1.12.0)\n",
            "Building wheels for collected packages: scikit-surprise\n",
            "  Building wheel for scikit-surprise (setup.py) ... \u001b[?25l\u001b[?25hdone\n",
            "  Created wheel for scikit-surprise: filename=scikit_surprise-1.1.0-cp36-cp36m-linux_x86_64.whl size=1678592 sha256=58eceb6bfc7ce34e11d6d136dc59b5104bb2d312ca8ec3cc6d88cee2a50fc377\n",
            "  Stored in directory: /root/.cache/pip/wheels/cc/fa/8c/16c93fccce688ae1bde7d979ff102f7bee980d9cfeb8641bcf\n",
            "Successfully built scikit-surprise\n",
            "Installing collected packages: scikit-surprise, surprise\n",
            "Successfully installed scikit-surprise-1.1.0 surprise-0.1\n"
          ],
          "name": "stdout"
        }
      ]
    },
    {
      "cell_type": "code",
      "metadata": {
        "id": "J9FfIKsk0bDJ",
        "colab_type": "code",
        "colab": {}
      },
      "source": [
        "from surprise import SVD, BaselineOnly, SVDpp, NMF, SlopeOne, CoClustering\n",
        "from surprise import Dataset\n",
        "from surprise.model_selection import cross_validate\n",
        "from surprise.prediction_algorithms import KNNBaseline, KNNBasic, KNNWithMeans, KNNWithZScore\n",
        "from surprise import accuracy\n",
        "from surprise.model_selection import train_test_split"
      ],
      "execution_count": 0,
      "outputs": []
    },
    {
      "cell_type": "code",
      "metadata": {
        "id": "mCZrwlMiOZPg",
        "colab_type": "code",
        "colab": {}
      },
      "source": [
        "import pandas as pd"
      ],
      "execution_count": 0,
      "outputs": []
    },
    {
      "cell_type": "code",
      "metadata": {
        "id": "olgICu7ZYyM7",
        "colab_type": "code",
        "colab": {
          "base_uri": "https://localhost:8080/",
          "height": 67
        },
        "outputId": "9895362b-45c1-46e9-cde7-425ccadcaf77"
      },
      "source": [
        "# Load the movielens-1M dataset\n",
        "data = Dataset.load_builtin('ml-1m')"
      ],
      "execution_count": 3,
      "outputs": [
        {
          "output_type": "stream",
          "text": [
            "Dataset ml-1m could not be found. Do you want to download it? [Y/n] y\n",
            "Trying to download dataset from http://files.grouplens.org/datasets/movielens/ml-1m.zip...\n",
            "Done! Dataset ml-1m has been saved to /root/.surprise_data/ml-1m\n"
          ],
          "name": "stdout"
        }
      ]
    },
    {
      "cell_type": "code",
      "metadata": {
        "id": "DnLayS6VaXZL",
        "colab_type": "code",
        "colab": {}
      },
      "source": [
        "# sample random trainset and testset\n",
        "# test set is made of 25% of the ratings.\n",
        "trainset, testset = train_test_split(data, test_size=.20)"
      ],
      "execution_count": 0,
      "outputs": []
    },
    {
      "cell_type": "code",
      "metadata": {
        "id": "AlitWSrNb2wZ",
        "colab_type": "code",
        "colab": {}
      },
      "source": [
        "def recommendation(algo, trainset, testset):\n",
        "  # Train the algorithm on the trainset, and predict ratings for the testset\n",
        "  algo.fit(trainset)\n",
        "  predictions = algo.test(testset)\n",
        "\n",
        "  # Then compute RMSE\n",
        "  rmse = accuracy.rmse(predictions)\n",
        "  # Then compute MAE\n",
        "  mae = accuracy.mae(predictions)\n",
        "  return rmse, mae, predictions"
      ],
      "execution_count": 0,
      "outputs": []
    },
    {
      "cell_type": "code",
      "metadata": {
        "id": "9ZblN_7unqoU",
        "colab_type": "code",
        "colab": {}
      },
      "source": [
        "# results = cross_validate(SVD(), data, measures=['RMSE', 'MAE'], cv=5, verbose=False)"
      ],
      "execution_count": 0,
      "outputs": []
    },
    {
      "cell_type": "markdown",
      "metadata": {
        "id": "gBCl6LOoBPgQ",
        "colab_type": "text"
      },
      "source": [
        "##### Calculating predictions for the top methods:"
      ]
    },
    {
      "cell_type": "code",
      "metadata": {
        "id": "KuTTB-6Th8ZN",
        "colab_type": "code",
        "colab": {
          "base_uri": "https://localhost:8080/",
          "height": 101
        },
        "outputId": "87132519-2c66-4e21-d449-60e032419fc4"
      },
      "source": [
        "# KNNBaseline\n",
        "\n",
        "algo = KNNBaseline()\n",
        "knn_rmse, knn_mae, knn_pred = recommendation(algo, trainset, testset)"
      ],
      "execution_count": 12,
      "outputs": [
        {
          "output_type": "stream",
          "text": [
            "Estimating biases using als...\n",
            "Computing the msd similarity matrix...\n",
            "Done computing similarity matrix.\n",
            "RMSE: 0.8952\n",
            "MAE:  0.7062\n"
          ],
          "name": "stdout"
        }
      ]
    },
    {
      "cell_type": "code",
      "metadata": {
        "id": "ndRC8sVBBoje",
        "colab_type": "code",
        "colab": {
          "base_uri": "https://localhost:8080/",
          "height": 50
        },
        "outputId": "e2c5acea-d4ef-4b91-fedc-20bdf567616f"
      },
      "source": [
        "# SlopeOne\n",
        "\n",
        "algo = SlopeOne()\n",
        "slopeone_rmse, slopeone_mae, slopeone_pred = recommendation(algo, trainset, testset)"
      ],
      "execution_count": 16,
      "outputs": [
        {
          "output_type": "stream",
          "text": [
            "RMSE: 0.9072\n",
            "MAE:  0.7149\n"
          ],
          "name": "stdout"
        }
      ]
    },
    {
      "cell_type": "code",
      "metadata": {
        "id": "INAgGkTFBxlT",
        "colab_type": "code",
        "colab": {
          "base_uri": "https://localhost:8080/",
          "height": 50
        },
        "outputId": "be1e47f3-dcd2-4e27-f9b9-4159e49504e8"
      },
      "source": [
        "# SVD\n",
        "\n",
        "algo = SVD()\n",
        "svd_rmse, svd_mae, svd_pred = recommendation(algo, trainset, testset)"
      ],
      "execution_count": 13,
      "outputs": [
        {
          "output_type": "stream",
          "text": [
            "RMSE: 0.8745\n",
            "MAE:  0.6866\n"
          ],
          "name": "stdout"
        }
      ]
    },
    {
      "cell_type": "code",
      "metadata": {
        "id": "uJCkdey1B02t",
        "colab_type": "code",
        "colab": {
          "base_uri": "https://localhost:8080/",
          "height": 50
        },
        "outputId": "f3a7bfa9-9d1a-4551-80cc-7cadc2870687"
      },
      "source": [
        "# SVDpp\n",
        "\n",
        "algo = SVDpp()\n",
        "svdpp_rmse, svdpp_mae, svdpp_pred = recommendation(algo, trainset, testset)"
      ],
      "execution_count": 14,
      "outputs": [
        {
          "output_type": "stream",
          "text": [
            "RMSE: 0.8621\n",
            "MAE:  0.6725\n"
          ],
          "name": "stdout"
        }
      ]
    },
    {
      "cell_type": "code",
      "metadata": {
        "id": "5OqtsT-5MPAh",
        "colab_type": "code",
        "colab": {}
      },
      "source": [
        "pred_df = pd.DataFrame(columns= ['uid', 'iid', 'og_rating', 'svd_rating', 'knn_rating', 'svdpp_rating', 'slopeone_rating'])"
      ],
      "execution_count": 0,
      "outputs": []
    },
    {
      "cell_type": "code",
      "metadata": {
        "id": "ExyS3zHlzxsP",
        "colab_type": "code",
        "colab": {
          "base_uri": "https://localhost:8080/",
          "height": 34
        },
        "outputId": "7e8de20e-25f4-4efe-d2c2-6fab93bee2ba"
      },
      "source": [
        "num_test = len(svd_pred)\n",
        "print(num_test)"
      ],
      "execution_count": 21,
      "outputs": [
        {
          "output_type": "stream",
          "text": [
            "200042\n"
          ],
          "name": "stdout"
        }
      ]
    },
    {
      "cell_type": "code",
      "metadata": {
        "id": "p8ZiTJi4O_N1",
        "colab_type": "code",
        "colab": {
          "base_uri": "https://localhost:8080/",
          "height": 118
        },
        "outputId": "a301bbdd-627d-4c84-d3d2-96d9b4cced27"
      },
      "source": [
        "count = 0\n",
        "for pred in svd_pred:\n",
        "  count += 1\n",
        "  print(pred.uid)\n",
        "  if count > 5:\n",
        "    break"
      ],
      "execution_count": 17,
      "outputs": [
        {
          "output_type": "stream",
          "text": [
            "4428\n",
            "4959\n",
            "6012\n",
            "4046\n",
            "1151\n",
            "3430\n"
          ],
          "name": "stdout"
        }
      ]
    },
    {
      "cell_type": "code",
      "metadata": {
        "id": "D-vXRtzq2xiJ",
        "colab_type": "code",
        "colab": {
          "base_uri": "https://localhost:8080/",
          "height": 34
        },
        "outputId": "6131785e-58f8-41ae-b973-119663ef8bcb"
      },
      "source": [
        "svd_pred[0]"
      ],
      "execution_count": 28,
      "outputs": [
        {
          "output_type": "execute_result",
          "data": {
            "text/plain": [
              "Prediction(uid='4428', iid='3264', r_ui=3.0, est=3.464400302513879, details={'was_impossible': False})"
            ]
          },
          "metadata": {
            "tags": []
          },
          "execution_count": 28
        }
      ]
    },
    {
      "cell_type": "code",
      "metadata": {
        "id": "YSPLXRAgzfka",
        "colab_type": "code",
        "colab": {}
      },
      "source": [
        "for i in range(num_test): \n",
        "  svd = svd_pred[i]\n",
        "  slopeone = slopeone_pred[i]\n",
        "  knn = knn_pred[i]\n",
        "  svdpp = svdpp_pred[i]\n",
        "  df = pd.DataFrame([[svd.uid, svd.iid, svd.r_ui, svd.est, knn.est, svdpp.est, slopeone.est]], columns=['uid', 'iid', 'og_rating', 'svd_rating', 'knn_rating', 'svdpp_rating', 'slopeone_rating'])\n",
        "  pred_df = pd.concat([df, pred_df], ignore_index=True)"
      ],
      "execution_count": 0,
      "outputs": []
    },
    {
      "cell_type": "code",
      "metadata": {
        "id": "fJdb0S-A5PiX",
        "colab_type": "code",
        "colab": {
          "base_uri": "https://localhost:8080/",
          "height": 402
        },
        "outputId": "c1fbf936-755a-446d-cbae-a4497db39957"
      },
      "source": [
        "pred_df"
      ],
      "execution_count": 37,
      "outputs": [
        {
          "output_type": "execute_result",
          "data": {
            "text/html": [
              "<div>\n",
              "<style scoped>\n",
              "    .dataframe tbody tr th:only-of-type {\n",
              "        vertical-align: middle;\n",
              "    }\n",
              "\n",
              "    .dataframe tbody tr th {\n",
              "        vertical-align: top;\n",
              "    }\n",
              "\n",
              "    .dataframe thead th {\n",
              "        text-align: right;\n",
              "    }\n",
              "</style>\n",
              "<table border=\"1\" class=\"dataframe\">\n",
              "  <thead>\n",
              "    <tr style=\"text-align: right;\">\n",
              "      <th></th>\n",
              "      <th>uid</th>\n",
              "      <th>iid</th>\n",
              "      <th>og_rating</th>\n",
              "      <th>svd_rating</th>\n",
              "      <th>knn_rating</th>\n",
              "      <th>svdpp_rating</th>\n",
              "      <th>slopeone_rating</th>\n",
              "    </tr>\n",
              "  </thead>\n",
              "  <tbody>\n",
              "    <tr>\n",
              "      <th>0</th>\n",
              "      <td>2421</td>\n",
              "      <td>480</td>\n",
              "      <td>4.0</td>\n",
              "      <td>3.765975</td>\n",
              "      <td>3.714164</td>\n",
              "      <td>3.915908</td>\n",
              "      <td>3.835640</td>\n",
              "    </tr>\n",
              "    <tr>\n",
              "      <th>1</th>\n",
              "      <td>5682</td>\n",
              "      <td>3489</td>\n",
              "      <td>3.0</td>\n",
              "      <td>3.459879</td>\n",
              "      <td>3.559481</td>\n",
              "      <td>3.467551</td>\n",
              "      <td>3.297716</td>\n",
              "    </tr>\n",
              "    <tr>\n",
              "      <th>2</th>\n",
              "      <td>3517</td>\n",
              "      <td>1136</td>\n",
              "      <td>5.0</td>\n",
              "      <td>4.553831</td>\n",
              "      <td>4.589899</td>\n",
              "      <td>4.481263</td>\n",
              "      <td>4.593982</td>\n",
              "    </tr>\n",
              "    <tr>\n",
              "      <th>3</th>\n",
              "      <td>1141</td>\n",
              "      <td>1584</td>\n",
              "      <td>3.0</td>\n",
              "      <td>3.796377</td>\n",
              "      <td>3.538771</td>\n",
              "      <td>4.285878</td>\n",
              "      <td>3.550342</td>\n",
              "    </tr>\n",
              "    <tr>\n",
              "      <th>4</th>\n",
              "      <td>570</td>\n",
              "      <td>2688</td>\n",
              "      <td>2.0</td>\n",
              "      <td>3.244022</td>\n",
              "      <td>3.331249</td>\n",
              "      <td>3.023198</td>\n",
              "      <td>3.004284</td>\n",
              "    </tr>\n",
              "    <tr>\n",
              "      <th>...</th>\n",
              "      <td>...</td>\n",
              "      <td>...</td>\n",
              "      <td>...</td>\n",
              "      <td>...</td>\n",
              "      <td>...</td>\n",
              "      <td>...</td>\n",
              "      <td>...</td>\n",
              "    </tr>\n",
              "    <tr>\n",
              "      <th>200037</th>\n",
              "      <td>1151</td>\n",
              "      <td>1307</td>\n",
              "      <td>4.0</td>\n",
              "      <td>4.645709</td>\n",
              "      <td>4.359878</td>\n",
              "      <td>4.409605</td>\n",
              "      <td>4.208234</td>\n",
              "    </tr>\n",
              "    <tr>\n",
              "      <th>200038</th>\n",
              "      <td>4046</td>\n",
              "      <td>1358</td>\n",
              "      <td>4.0</td>\n",
              "      <td>3.955001</td>\n",
              "      <td>3.941909</td>\n",
              "      <td>3.847858</td>\n",
              "      <td>3.668242</td>\n",
              "    </tr>\n",
              "    <tr>\n",
              "      <th>200039</th>\n",
              "      <td>6012</td>\n",
              "      <td>592</td>\n",
              "      <td>1.0</td>\n",
              "      <td>3.104963</td>\n",
              "      <td>3.209230</td>\n",
              "      <td>3.240841</td>\n",
              "      <td>3.368614</td>\n",
              "    </tr>\n",
              "    <tr>\n",
              "      <th>200040</th>\n",
              "      <td>4959</td>\n",
              "      <td>1735</td>\n",
              "      <td>5.0</td>\n",
              "      <td>3.589443</td>\n",
              "      <td>3.606219</td>\n",
              "      <td>3.792916</td>\n",
              "      <td>3.371166</td>\n",
              "    </tr>\n",
              "    <tr>\n",
              "      <th>200041</th>\n",
              "      <td>4428</td>\n",
              "      <td>3264</td>\n",
              "      <td>3.0</td>\n",
              "      <td>3.464400</td>\n",
              "      <td>3.205011</td>\n",
              "      <td>3.385716</td>\n",
              "      <td>3.294579</td>\n",
              "    </tr>\n",
              "  </tbody>\n",
              "</table>\n",
              "<p>200042 rows × 7 columns</p>\n",
              "</div>"
            ],
            "text/plain": [
              "         uid   iid  og_rating  ...  knn_rating  svdpp_rating  slopeone_rating\n",
              "0       2421   480        4.0  ...    3.714164      3.915908         3.835640\n",
              "1       5682  3489        3.0  ...    3.559481      3.467551         3.297716\n",
              "2       3517  1136        5.0  ...    4.589899      4.481263         4.593982\n",
              "3       1141  1584        3.0  ...    3.538771      4.285878         3.550342\n",
              "4        570  2688        2.0  ...    3.331249      3.023198         3.004284\n",
              "...      ...   ...        ...  ...         ...           ...              ...\n",
              "200037  1151  1307        4.0  ...    4.359878      4.409605         4.208234\n",
              "200038  4046  1358        4.0  ...    3.941909      3.847858         3.668242\n",
              "200039  6012   592        1.0  ...    3.209230      3.240841         3.368614\n",
              "200040  4959  1735        5.0  ...    3.606219      3.792916         3.371166\n",
              "200041  4428  3264        3.0  ...    3.205011      3.385716         3.294579\n",
              "\n",
              "[200042 rows x 7 columns]"
            ]
          },
          "metadata": {
            "tags": []
          },
          "execution_count": 37
        }
      ]
    },
    {
      "cell_type": "code",
      "metadata": {
        "id": "tSwp06K6JClS",
        "colab_type": "code",
        "colab": {}
      },
      "source": [
        "# pred_df.to_csv('prediction.csv')"
      ],
      "execution_count": 0,
      "outputs": []
    },
    {
      "cell_type": "code",
      "metadata": {
        "id": "chwzYNxnG_6Q",
        "colab_type": "code",
        "colab": {}
      },
      "source": [
        "from surprise import NormalPredictor\n",
        "from surprise.model_selection import GridSearchCV"
      ],
      "execution_count": 0,
      "outputs": []
    },
    {
      "cell_type": "code",
      "metadata": {
        "id": "nLgcGVhAGbR1",
        "colab_type": "code",
        "colab": {}
      },
      "source": [
        "param_grid = {'n_factors':[50,100,150],'n_epochs':[20,30],  'lr_all':[0.005,0.01],'reg_all':[0.02,0.1]}\n",
        "\n",
        "param_grid = {'n_epochs': [5, 10], 'lr_all': [0.002, 0.005],\n",
        "              'reg_all': [0.4, 0.6]}\n",
        "gs = GridSearchCV(SVD, param_grid, measures=['rmse', 'mae'], cv=5)\n",
        "\n",
        "gs.fit(data)\n",
        "\n",
        "# best RMSE score\n",
        "print(gs.best_score['rmse'])\n",
        "\n",
        "# combination of parameters that gave the best RMSE score\n",
        "print(gs.best_params['rmse'])"
      ],
      "execution_count": 0,
      "outputs": []
    }
  ]
}
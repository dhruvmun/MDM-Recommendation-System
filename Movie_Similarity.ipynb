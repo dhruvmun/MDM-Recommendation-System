{
 "cells": [
  {
   "cell_type": "code",
   "execution_count": 1,
   "metadata": {},
   "outputs": [],
   "source": [
    "import numpy as np\n",
    "import pandas as pd\n",
    "import matplotlib.pyplot as plt\n",
    "\n",
    "from ast import literal_eval\n",
    "from sklearn.feature_extraction.text import TfidfVectorizer, CountVectorizer\n",
    "from sklearn.metrics.pairwise import linear_kernel, cosine_similarity"
   ]
  },
  {
   "cell_type": "code",
   "execution_count": 2,
   "metadata": {},
   "outputs": [],
   "source": [
    "# Load the training data\n",
    "# ratings_train = pd.read_csv(\"training_data(1).csv\", converters={\"genres\": literal_eval, \"tag\": literal_eval})\n",
    "\n",
    "# ratings_train.head()"
   ]
  },
  {
   "cell_type": "code",
   "execution_count": 3,
   "metadata": {},
   "outputs": [],
   "source": [
    "# ratings_train.head()"
   ]
  },
  {
   "cell_type": "code",
   "execution_count": 4,
   "metadata": {},
   "outputs": [],
   "source": [
    "# Load movie data\n",
    "movies = pd.read_csv(\"movies_tmdb.csv\")#, converters={\"genres\": literal_eval, \"tag\": literal_eval})"
   ]
  },
  {
   "cell_type": "code",
   "execution_count": 5,
   "metadata": {},
   "outputs": [
    {
     "data": {
      "text/html": [
       "<div>\n",
       "<style scoped>\n",
       "    .dataframe tbody tr th:only-of-type {\n",
       "        vertical-align: middle;\n",
       "    }\n",
       "\n",
       "    .dataframe tbody tr th {\n",
       "        vertical-align: top;\n",
       "    }\n",
       "\n",
       "    .dataframe thead th {\n",
       "        text-align: right;\n",
       "    }\n",
       "</style>\n",
       "<table border=\"1\" class=\"dataframe\">\n",
       "  <thead>\n",
       "    <tr style=\"text-align: right;\">\n",
       "      <th></th>\n",
       "      <th>Unnamed: 0</th>\n",
       "      <th>movieId</th>\n",
       "      <th>genres</th>\n",
       "      <th>overview</th>\n",
       "      <th>popularity</th>\n",
       "      <th>release_date</th>\n",
       "      <th>tagline</th>\n",
       "      <th>title</th>\n",
       "      <th>vote_average</th>\n",
       "      <th>vote_count</th>\n",
       "    </tr>\n",
       "  </thead>\n",
       "  <tbody>\n",
       "    <tr>\n",
       "      <th>0</th>\n",
       "      <td>0</td>\n",
       "      <td>1</td>\n",
       "      <td>['Adventure', 'Animation', 'Children', 'Comedy...</td>\n",
       "      <td>Led by Woody, Andy's toys live happily in his ...</td>\n",
       "      <td>21.946943</td>\n",
       "      <td>1995-10-30</td>\n",
       "      <td>NaN</td>\n",
       "      <td>Toy Story</td>\n",
       "      <td>7.7</td>\n",
       "      <td>5415.0</td>\n",
       "    </tr>\n",
       "    <tr>\n",
       "      <th>1</th>\n",
       "      <td>1</td>\n",
       "      <td>2</td>\n",
       "      <td>['Adventure', 'Children', 'Fantasy']</td>\n",
       "      <td>When siblings Judy and Peter discover an encha...</td>\n",
       "      <td>17.015539</td>\n",
       "      <td>1995-12-15</td>\n",
       "      <td>Roll the dice and unleash the excitement!</td>\n",
       "      <td>Jumanji</td>\n",
       "      <td>6.9</td>\n",
       "      <td>2413.0</td>\n",
       "    </tr>\n",
       "    <tr>\n",
       "      <th>2</th>\n",
       "      <td>2</td>\n",
       "      <td>3</td>\n",
       "      <td>['Comedy', 'Romance']</td>\n",
       "      <td>A family wedding reignites the ancient feud be...</td>\n",
       "      <td>11.712900</td>\n",
       "      <td>1995-12-22</td>\n",
       "      <td>Still Yelling. Still Fighting. Still Ready for...</td>\n",
       "      <td>Grumpier Old Men</td>\n",
       "      <td>6.5</td>\n",
       "      <td>92.0</td>\n",
       "    </tr>\n",
       "    <tr>\n",
       "      <th>3</th>\n",
       "      <td>3</td>\n",
       "      <td>4</td>\n",
       "      <td>['Comedy', 'Drama', 'Romance']</td>\n",
       "      <td>Cheated on, mistreated and stepped on, the wom...</td>\n",
       "      <td>3.859495</td>\n",
       "      <td>1995-12-22</td>\n",
       "      <td>Friends are the people who let you be yourself...</td>\n",
       "      <td>Waiting to Exhale</td>\n",
       "      <td>6.1</td>\n",
       "      <td>34.0</td>\n",
       "    </tr>\n",
       "    <tr>\n",
       "      <th>4</th>\n",
       "      <td>4</td>\n",
       "      <td>5</td>\n",
       "      <td>['Comedy']</td>\n",
       "      <td>Just when George Banks has recovered from his ...</td>\n",
       "      <td>8.387519</td>\n",
       "      <td>1995-02-10</td>\n",
       "      <td>Just When His World Is Back To Normal... He's ...</td>\n",
       "      <td>Father of the Bride Part II</td>\n",
       "      <td>5.7</td>\n",
       "      <td>173.0</td>\n",
       "    </tr>\n",
       "  </tbody>\n",
       "</table>\n",
       "</div>"
      ],
      "text/plain": [
       "   Unnamed: 0  movieId                                             genres  \\\n",
       "0           0        1  ['Adventure', 'Animation', 'Children', 'Comedy...   \n",
       "1           1        2               ['Adventure', 'Children', 'Fantasy']   \n",
       "2           2        3                              ['Comedy', 'Romance']   \n",
       "3           3        4                     ['Comedy', 'Drama', 'Romance']   \n",
       "4           4        5                                         ['Comedy']   \n",
       "\n",
       "                                            overview  popularity release_date  \\\n",
       "0  Led by Woody, Andy's toys live happily in his ...   21.946943   1995-10-30   \n",
       "1  When siblings Judy and Peter discover an encha...   17.015539   1995-12-15   \n",
       "2  A family wedding reignites the ancient feud be...   11.712900   1995-12-22   \n",
       "3  Cheated on, mistreated and stepped on, the wom...    3.859495   1995-12-22   \n",
       "4  Just when George Banks has recovered from his ...    8.387519   1995-02-10   \n",
       "\n",
       "                                             tagline  \\\n",
       "0                                                NaN   \n",
       "1          Roll the dice and unleash the excitement!   \n",
       "2  Still Yelling. Still Fighting. Still Ready for...   \n",
       "3  Friends are the people who let you be yourself...   \n",
       "4  Just When His World Is Back To Normal... He's ...   \n",
       "\n",
       "                         title  vote_average  vote_count  \n",
       "0                    Toy Story           7.7      5415.0  \n",
       "1                      Jumanji           6.9      2413.0  \n",
       "2             Grumpier Old Men           6.5        92.0  \n",
       "3            Waiting to Exhale           6.1        34.0  \n",
       "4  Father of the Bride Part II           5.7       173.0  "
      ]
     },
     "execution_count": 5,
     "metadata": {},
     "output_type": "execute_result"
    }
   ],
   "source": [
    "movies.head()"
   ]
  },
  {
   "cell_type": "code",
   "execution_count": 6,
   "metadata": {},
   "outputs": [
    {
     "data": {
      "text/plain": [
       "(58128, 10)"
      ]
     },
     "execution_count": 6,
     "metadata": {},
     "output_type": "execute_result"
    }
   ],
   "source": [
    "movies.shape"
   ]
  },
  {
   "cell_type": "code",
   "execution_count": 7,
   "metadata": {},
   "outputs": [],
   "source": [
    "movies['tagline'] = movies['tagline'].fillna('')\n",
    "movies['description'] = movies['overview'] + movies['tagline']\n",
    "movies['description'] = movies['description'].fillna('')"
   ]
  },
  {
   "cell_type": "code",
   "execution_count": 72,
   "metadata": {
    "scrolled": true
   },
   "outputs": [],
   "source": [
    "tf = TfidfVectorizer(analyzer='word', ngram_range=(1, 2), min_df=0, stop_words='english')\n",
    "tfidf_matrix = tf.fit_transform(movies['description'])"
   ]
  },
  {
   "cell_type": "code",
   "execution_count": 73,
   "metadata": {},
   "outputs": [
    {
     "data": {
      "text/plain": [
       "481232"
      ]
     },
     "execution_count": 73,
     "metadata": {},
     "output_type": "execute_result"
    }
   ],
   "source": [
    "tf.vocabulary_['']"
   ]
  },
  {
   "cell_type": "code",
   "execution_count": 9,
   "metadata": {},
   "outputs": [
    {
     "data": {
      "text/plain": [
       "(58128, 1102766)"
      ]
     },
     "execution_count": 9,
     "metadata": {},
     "output_type": "execute_result"
    }
   ],
   "source": [
    "tfidf_matrix.shape"
   ]
  },
  {
   "cell_type": "code",
   "execution_count": 10,
   "metadata": {},
   "outputs": [],
   "source": [
    "# http://scikit-learn.org/stable/modules/metrics.html#linear-kernel\n",
    "cosine_sim = linear_kernel(tfidf_matrix, tfidf_matrix)"
   ]
  },
  {
   "cell_type": "code",
   "execution_count": 11,
   "metadata": {},
   "outputs": [
    {
     "data": {
      "text/plain": [
       "title\n",
       "Toy Story    0\n",
       "Jumanji      1\n",
       "dtype: int64"
      ]
     },
     "execution_count": 11,
     "metadata": {},
     "output_type": "execute_result"
    }
   ],
   "source": [
    "movies = movies.reset_index()\n",
    "titles = movies['title']\n",
    "indices = pd.Series(movies.index, index=movies['title'])\n",
    "indices.head(2)"
   ]
  },
  {
   "cell_type": "code",
   "execution_count": 12,
   "metadata": {},
   "outputs": [],
   "source": [
    "def get_recommendations(title):\n",
    "    idx = indices[title]\n",
    "    if type(idx) != np.int64:\n",
    "        if len(idx)>1:\n",
    "            print(\"ALERT: Multiple values\")\n",
    "            idx = idx[0]\n",
    "    sim_scores = list(enumerate(cosine_sim[idx]))\n",
    "    sim_scores = sorted(sim_scores, key=lambda x: x[1], reverse=True)\n",
    "    sim_scores = sim_scores[1:31]\n",
    "    movie_indices = [i[0] for i in sim_scores]\n",
    "    return titles.iloc[movie_indices]"
   ]
  },
  {
   "cell_type": "code",
   "execution_count": 13,
   "metadata": {},
   "outputs": [
    {
     "name": "stdout",
     "output_type": "stream",
     "text": [
      "ALERT: Multiple values\n"
     ]
    },
    {
     "data": {
      "text/plain": [
       "18450                                The Dark Knight Rises\n",
       "151                                         Batman Forever\n",
       "1348                                        Batman Returns\n",
       "21486    Batman Unmasked: The Psychology of the Dark Kn...\n",
       "15648                           Batman: Under the Red Hood\n",
       "20486              Batman: The Dark Knight Returns, Part 2\n",
       "46455                                The Lego Batman Movie\n",
       "586                                                 Batman\n",
       "25920                                    Batman vs Dracula\n",
       "18226                                     Batman: Year One\n",
       "9287                    Batman Beyond: Return of the Joker\n",
       "45282    LEGO DC Comics Super Heroes: Batman: Be-Leaguered\n",
       "31147                           The Magnificent Dare Devil\n",
       "31809                                              Accused\n",
       "46462    Batman Beyond Darwyn Cooke's Batman 75th Anniv...\n",
       "22354                                       The Super Cops\n",
       "24382                            In Order of Disappearance\n",
       "3129                          Batman: Mask of the Phantasm\n",
       "11833                                            Slow Burn\n",
       "34492                     Batman Unlimited: Monster Mayhem\n",
       "3301                                                   JFK\n",
       "20039              Batman: The Dark Knight Returns, Part 1\n",
       "14033                                           Judas Kiss\n",
       "43555                             Batman: The Killing Joke\n",
       "48472                                             Stingray\n",
       "8051                                       To End All Wars\n",
       "18456                   Sherlock Holmes: A Game of Shadows\n",
       "21414       Lego Batman: The Movie - DC Super Heroes Unite\n",
       "10191                                        Batman Begins\n",
       "7721                                           Masterminds\n",
       "Name: title, dtype: object"
      ]
     },
     "execution_count": 13,
     "metadata": {},
     "output_type": "execute_result"
    }
   ],
   "source": [
    "get_recommendations('The Dark Knight').head(45)"
   ]
  },
  {
   "cell_type": "code",
   "execution_count": 14,
   "metadata": {
    "scrolled": true
   },
   "outputs": [
    {
     "data": {
      "text/plain": [
       "48729    The Godfather Trilogy: 1972-1990\n",
       "1197               The Godfather: Part II\n",
       "34322                    Honor Thy Father\n",
       "21920                          The Family\n",
       "23549                          Blood Ties\n",
       "41614            A Mother Should Be Loved\n",
       "18522                     The Outside Man\n",
       "11373                    Household Saints\n",
       "10896                            Election\n",
       "4360                                 Made\n",
       "Name: title, dtype: object"
      ]
     },
     "execution_count": 14,
     "metadata": {},
     "output_type": "execute_result"
    }
   ],
   "source": [
    "get_recommendations('The Godfather').head(10)"
   ]
  },
  {
   "cell_type": "code",
   "execution_count": 15,
   "metadata": {},
   "outputs": [
    {
     "data": {
      "text/plain": [
       "3030                                      Toy Story 2\n",
       "15480                                     Toy Story 3\n",
       "25089                                       Small Fry\n",
       "10370                          The 40 Year Old Virgin\n",
       "24350                     Andy Hardy's Blonde Trouble\n",
       "8375                                        The Champ\n",
       "48091                Andy Kaufman Plays Carnegie Hall\n",
       "3090                                  Man on the Moon\n",
       "42153    Superstar: The Life and Times of Andy Warhol\n",
       "47296    Andy Peters: Exclamation Mark Question Point\n",
       "Name: title, dtype: object"
      ]
     },
     "execution_count": 15,
     "metadata": {},
     "output_type": "execute_result"
    }
   ],
   "source": [
    "get_recommendations('Toy Story').head(10)"
   ]
  },
  {
   "cell_type": "code",
   "execution_count": 16,
   "metadata": {},
   "outputs": [
    {
     "data": {
      "text/plain": [
       "21939                  Table No. 21\n",
       "9566                      Word Wars\n",
       "47747                       The Bar\n",
       "8852                        Quintet\n",
       "17400                The Dark Angel\n",
       "40810            The Ouija Exorcism\n",
       "49113             Liar Game: Reborn\n",
       "15649               Le Pont du Nord\n",
       "37660    Doctor Who: Last Christmas\n",
       "38564                      The Mend\n",
       "Name: title, dtype: object"
      ]
     },
     "execution_count": 16,
     "metadata": {},
     "output_type": "execute_result"
    }
   ],
   "source": [
    "get_recommendations('Jumanji').head(10)"
   ]
  },
  {
   "cell_type": "code",
   "execution_count": 17,
   "metadata": {},
   "outputs": [
    {
     "data": {
      "text/plain": [
       "314                          The Santa Clause\n",
       "16254                 How I Ended This Summer\n",
       "42025                             Santa Claus\n",
       "46467                 The Spirit of Christmas\n",
       "22527    The Life & Adventures of Santa Claus\n",
       "2316                   Miracle on 34th Street\n",
       "37762        The Christmas That Almost Wasn't\n",
       "25725                              Santa Who?\n",
       "40212    The Life & Adventures of Santa Claus\n",
       "8908               Silent Night, Deadly Night\n",
       "Name: title, dtype: object"
      ]
     },
     "execution_count": 17,
     "metadata": {},
     "output_type": "execute_result"
    }
   ],
   "source": [
    "get_recommendations('Doctor Who: Last Christmas').head(10)"
   ]
  },
  {
   "cell_type": "code",
   "execution_count": 18,
   "metadata": {
    "scrolled": true
   },
   "outputs": [
    {
     "data": {
      "text/plain": [
       "\"['Adventure', 'Drama', 'Fantasy', 'Sci-Fi']\""
      ]
     },
     "execution_count": 18,
     "metadata": {},
     "output_type": "execute_result"
    }
   ],
   "source": [
    "movies[movies['title'] == 'Doctor Who: Last Christmas']['genres'].values[0]"
   ]
  },
  {
   "cell_type": "code",
   "execution_count": 19,
   "metadata": {},
   "outputs": [
    {
     "data": {
      "text/plain": [
       "'The Doctor and Clara face their Last Christmas. Trapped on an Arctic base, under attack from terrifying creatures, who are you going to call? Santa Claus!'"
      ]
     },
     "execution_count": 19,
     "metadata": {},
     "output_type": "execute_result"
    }
   ],
   "source": [
    "movies[movies['title'] == 'Doctor Who: Last Christmas']['overview'].values[0]"
   ]
  },
  {
   "cell_type": "code",
   "execution_count": 20,
   "metadata": {
    "scrolled": true
   },
   "outputs": [
    {
     "data": {
      "text/plain": [
       "49042                   III\n",
       "7508                 Cypher\n",
       "160                   Crumb\n",
       "10983           Renaissance\n",
       "9150              The Brave\n",
       "26142    Closer to the Moon\n",
       "30806         Dear Murderer\n",
       "34372              Hollywoo\n",
       "22995      The Monkey's Paw\n",
       "20621        A Woman's Face\n",
       "Name: title, dtype: object"
      ]
     },
     "execution_count": 20,
     "metadata": {},
     "output_type": "execute_result"
    }
   ],
   "source": [
    "get_recommendations('Inception').head(10)"
   ]
  },
  {
   "cell_type": "code",
   "execution_count": 21,
   "metadata": {},
   "outputs": [
    {
     "data": {
      "text/plain": [
       "\"A small European town, where sisters Ayia and Mirra live, gets struck down by an unknown disease which takes many lives. Following their mother's death, the younger sister falls ill. Having realized that conventional medicine is useless in the face of the sister's disease, Ayia seeks help from Father Herman, a parish priest and a close family friend. In his house she finds books that are very far from the conventional religion. She gets to know that only penetration into Mirra's sick subconscious mind and discovery of the true cause of her disease will give her a chance to save her sister. Ayia is ready to go through this terrifying ritual, dive into the depths of the subconscious mind, and face the demons residing there.\""
      ]
     },
     "execution_count": 21,
     "metadata": {},
     "output_type": "execute_result"
    }
   ],
   "source": [
    "movies[movies['title'] == 'III']['overview'].values[0]"
   ]
  },
  {
   "cell_type": "code",
   "execution_count": 22,
   "metadata": {
    "scrolled": true
   },
   "outputs": [
    {
     "data": {
      "text/plain": [
       "'Cobb, a skilled thief who commits corporate espionage by infiltrating the subconscious of his targets is offered a chance to regain his old life as payment for a task considered to be impossible: \"inception\", the implantation of another person\\'s idea into a target\\'s subconscious.'"
      ]
     },
     "execution_count": 22,
     "metadata": {},
     "output_type": "execute_result"
    }
   ],
   "source": [
    "movies[movies['title'] == 'Inception']['overview'].values[0]"
   ]
  },
  {
   "cell_type": "code",
   "execution_count": 23,
   "metadata": {},
   "outputs": [
    {
     "data": {
      "text/html": [
       "<div>\n",
       "<style scoped>\n",
       "    .dataframe tbody tr th:only-of-type {\n",
       "        vertical-align: middle;\n",
       "    }\n",
       "\n",
       "    .dataframe tbody tr th {\n",
       "        vertical-align: top;\n",
       "    }\n",
       "\n",
       "    .dataframe thead th {\n",
       "        text-align: right;\n",
       "    }\n",
       "</style>\n",
       "<table border=\"1\" class=\"dataframe\">\n",
       "  <thead>\n",
       "    <tr style=\"text-align: right;\">\n",
       "      <th></th>\n",
       "      <th>popularity</th>\n",
       "      <th>vote_average</th>\n",
       "      <th>vote_count</th>\n",
       "    </tr>\n",
       "  </thead>\n",
       "  <tbody>\n",
       "    <tr>\n",
       "      <th>popularity</th>\n",
       "      <td>1.000000</td>\n",
       "      <td>0.154253</td>\n",
       "      <td>0.559918</td>\n",
       "    </tr>\n",
       "    <tr>\n",
       "      <th>vote_average</th>\n",
       "      <td>0.154253</td>\n",
       "      <td>1.000000</td>\n",
       "      <td>0.123681</td>\n",
       "    </tr>\n",
       "    <tr>\n",
       "      <th>vote_count</th>\n",
       "      <td>0.559918</td>\n",
       "      <td>0.123681</td>\n",
       "      <td>1.000000</td>\n",
       "    </tr>\n",
       "  </tbody>\n",
       "</table>\n",
       "</div>"
      ],
      "text/plain": [
       "              popularity  vote_average  vote_count\n",
       "popularity      1.000000      0.154253    0.559918\n",
       "vote_average    0.154253      1.000000    0.123681\n",
       "vote_count      0.559918      0.123681    1.000000"
      ]
     },
     "execution_count": 23,
     "metadata": {},
     "output_type": "execute_result"
    }
   ],
   "source": [
    "popularity_df = movies[['popularity', 'vote_average', 'vote_count']]\n",
    "popularity_df.corr()"
   ]
  },
  {
   "cell_type": "code",
   "execution_count": 24,
   "metadata": {
    "scrolled": false
   },
   "outputs": [
    {
     "data": {
      "image/png": "[encoded data removed]",
      "text/plain": [
       "<Figure size 720x720 with 9 Axes>"
      ]
     },
     "metadata": {
      "needs_background": "light"
     },
     "output_type": "display_data"
    }
   ],
   "source": [
    "pd.plotting.scatter_matrix(popularity_df, figsize=(10, 10))\n",
    "plt.show()"
   ]
  },
  {
   "cell_type": "code",
   "execution_count": 17,
   "metadata": {},
   "outputs": [],
   "source": [
    "movies['tagline'] = movies['tagline'].fillna('')\n",
    "movies['description_genre'] = movies['overview'] + movies['tagline'] + 2*movies['genres']\n",
    "movies['description_genre'] = movies['description_genre'].fillna('')"
   ]
  },
  {
   "cell_type": "code",
   "execution_count": 18,
   "metadata": {},
   "outputs": [],
   "source": [
    "tf_new = TfidfVectorizer(analyzer='word', ngram_range=(1, 2), min_df=0, stop_words='english')\n",
    "tfidf_matrix_new = tf_new.fit_transform(movies['description_genre'])"
   ]
  },
  {
   "cell_type": "code",
   "execution_count": 19,
   "metadata": {},
   "outputs": [],
   "source": [
    "cosine_sim_new = linear_kernel(tfidf_matrix_new, tfidf_matrix_new)"
   ]
  },
  {
   "cell_type": "code",
   "execution_count": 20,
   "metadata": {},
   "outputs": [
    {
     "data": {
      "text/plain": [
       "873101"
      ]
     },
     "execution_count": 20,
     "metadata": {},
     "output_type": "execute_result"
    }
   ],
   "source": [
    "tf_new.vocabulary_['scifi']"
   ]
  },
  {
   "cell_type": "code",
   "execution_count": 21,
   "metadata": {},
   "outputs": [
    {
     "data": {
      "text/plain": [
       "title\n",
       "Toy Story    0\n",
       "Jumanji      1\n",
       "dtype: int64"
      ]
     },
     "execution_count": 21,
     "metadata": {},
     "output_type": "execute_result"
    }
   ],
   "source": [
    "movies = movies.reset_index()\n",
    "titles = movies['title']\n",
    "indices = pd.Series(movies.index, index=movies['title'])\n",
    "indices.head(2)"
   ]
  },
  {
   "cell_type": "code",
   "execution_count": 22,
   "metadata": {},
   "outputs": [],
   "source": [
    "def get_recommendations_new(title):\n",
    "    idx = indices[title]\n",
    "    if type(idx) != np.int64:\n",
    "        if len(idx)>1:\n",
    "            print(\"ALERT: Multiple values\")\n",
    "            idx = idx[0]\n",
    "    sim_scores = list(enumerate(cosine_sim_new[idx]))\n",
    "    sim_scores = sorted(sim_scores, key=lambda x: x[1], reverse=True)\n",
    "    sim_scores = sim_scores[1:31]\n",
    "    movie_indices = [i[0] for i in sim_scores]\n",
    "    return titles.iloc[movie_indices]"
   ]
  },
  {
   "cell_type": "code",
   "execution_count": 23,
   "metadata": {},
   "outputs": [
    {
     "data": {
      "text/plain": [
       "30647                         20 Years After\n",
       "19000                 4:44 Last Day on Earth\n",
       "38193    Wizards of Waverly Place: The Movie\n",
       "36355                     Under the Mountain\n",
       "10418                         Born in Flames\n",
       "45510                              Team Thor\n",
       "28                 The City of Lost Children\n",
       "20474              It's Such a Beautiful Day\n",
       "27268                    Master of the World\n",
       "40678                           On the Comet\n",
       "Name: title, dtype: object"
      ]
     },
     "execution_count": 23,
     "metadata": {},
     "output_type": "execute_result"
    }
   ],
   "source": [
    "get_recommendations_new('Doctor Who: Last Christmas').head(10)"
   ]
  },
  {
   "cell_type": "code",
   "execution_count": 24,
   "metadata": {},
   "outputs": [
    {
     "data": {
      "text/plain": [
       "array([\"['Adventure', 'Drama', 'Fantasy', 'Sci-Fi']\"], dtype=object)"
      ]
     },
     "execution_count": 24,
     "metadata": {},
     "output_type": "execute_result"
    }
   ],
   "source": [
    "movies[movies['title'] == 'Doctor Who: Last Christmas']['genres'].values"
   ]
  },
  {
   "cell_type": "code",
   "execution_count": 27,
   "metadata": {},
   "outputs": [
    {
     "data": {
      "text/plain": [
       "array([\"['Animation', 'Comedy', 'Drama', 'Fantasy', 'Sci-Fi']\",\n",
       "       \"['Animation', 'Comedy', 'Drama']\"], dtype=object)"
      ]
     },
     "execution_count": 27,
     "metadata": {},
     "output_type": "execute_result"
    }
   ],
   "source": [
    "movies[movies['title'] == \"It's Such a Beautiful Day\"]['genres'].values"
   ]
  },
  {
   "cell_type": "code",
   "execution_count": null,
   "metadata": {},
   "outputs": [],
   "source": [
    "movies[movies['title'] == 'Doctor Who: Last Christmas']['overview'].values"
   ]
  },
  {
   "cell_type": "code",
   "execution_count": null,
   "metadata": {},
   "outputs": [],
   "source": [
    "movies[movies['title'] == '4:44 Last Day on Earth']['overview'].values"
   ]
  },
  {
   "cell_type": "code",
   "execution_count": null,
   "metadata": {},
   "outputs": [],
   "source": [
    "movies[movies['title'] == '20 Years After']['genres'].values"
   ]
  },
  {
   "cell_type": "code",
   "execution_count": null,
   "metadata": {},
   "outputs": [],
   "source": [
    "movies[movies['title'] == '20 Years After']['overview'].values"
   ]
  },
  {
   "cell_type": "code",
   "execution_count": 83,
   "metadata": {
    "scrolled": false
   },
   "outputs": [
    {
     "data": {
      "text/plain": [
       "12901                  Watchmen\n",
       "21110                Iron Man 3\n",
       "6826     The Matrix Revolutions\n",
       "27816         Talking to Heaven\n",
       "20806     G.I. Joe: Retaliation\n",
       "26568                 Implanted\n",
       "12007              Transformers\n",
       "43137                Wild Palms\n",
       "10914            V for Vendetta\n",
       "9504                 The Jacket\n",
       "Name: title, dtype: object"
      ]
     },
     "execution_count": 83,
     "metadata": {},
     "output_type": "execute_result"
    }
   ],
   "source": [
    "get_recommendations_new('Inception').head(10)"
   ]
  },
  {
   "cell_type": "code",
   "execution_count": 33,
   "metadata": {},
   "outputs": [
    {
     "data": {
      "text/plain": [
       "array([\"...['Crime', 'Drama', 'Thriller']\",\n",
       "       \"Short depicting the endings of various classic video games in a whimsical fashion.['Drama']\"],\n",
       "      dtype=object)"
      ]
     },
     "execution_count": 33,
     "metadata": {},
     "output_type": "execute_result"
    }
   ],
   "source": [
    "movies[movies['title'] == 'Game Over']['description_genre'].values"
   ]
  },
  {
   "cell_type": "code",
   "execution_count": 34,
   "metadata": {},
   "outputs": [
    {
     "data": {
      "text/plain": [
       "array(['Cobb, a skilled thief who commits corporate espionage by infiltrating the subconscious of his targets is offered a chance to regain his old life as payment for a task considered to be impossible: \"inception\", the implantation of another person\\'s idea into a target\\'s subconscious.Your mind is the scene of the crime.[\\'Action\\', \\'Crime\\', \\'Drama\\', \\'Mystery\\', \\'Sci-Fi\\', \\'Thriller\\', \\'IMAX\\']'],\n",
       "      dtype=object)"
      ]
     },
     "execution_count": 34,
     "metadata": {},
     "output_type": "execute_result"
    }
   ],
   "source": [
    "movies[movies['title'] == 'Inception']['description_genre'].values"
   ]
  },
  {
   "cell_type": "code",
   "execution_count": 59,
   "metadata": {},
   "outputs": [
    {
     "data": {
      "text/plain": [
       "18192                  The War of the Robots\n",
       "30230                   Stand by Me Doraemon\n",
       "49100      Abraxas, Guardian of the Universe\n",
       "16220                          Bloodbrothers\n",
       "2489                              The Matrix\n",
       "48131                              Megafault\n",
       "18758       Journey 2: The Mysterious Island\n",
       "13931    Transformers: Revenge of the Fallen\n",
       "13985                   The Inhabited Island\n",
       "22239                           Ender's Game\n",
       "Name: title, dtype: object"
      ]
     },
     "execution_count": 59,
     "metadata": {},
     "output_type": "execute_result"
    }
   ],
   "source": [
    "get_recommendations_new('Avatar').head(10)"
   ]
  },
  {
   "cell_type": "markdown",
   "metadata": {},
   "source": [
    "### IMDB Weighted Average "
   ]
  },
  {
   "cell_type": "code",
   "execution_count": 29,
   "metadata": {},
   "outputs": [
    {
     "data": {
      "text/plain": [
       "5.246875482178676"
      ]
     },
     "execution_count": 29,
     "metadata": {},
     "output_type": "execute_result"
    }
   ],
   "source": [
    "# this is V\n",
    "vote_counts = movies[movies['vote_count'].notnull()]['vote_count'].astype('int')\n",
    "\n",
    "# this is R\n",
    "vote_averages = movies[movies['vote_average'].notnull()]['vote_average'].astype('int')\n",
    "\n",
    "# this is C\n",
    "C = vote_averages.mean()\n",
    "C"
   ]
  },
  {
   "cell_type": "code",
   "execution_count": 30,
   "metadata": {},
   "outputs": [
    {
     "data": {
      "text/plain": [
       "434.0"
      ]
     },
     "execution_count": 30,
     "metadata": {},
     "output_type": "execute_result"
    }
   ],
   "source": [
    "m = vote_counts.quantile(0.95)\n",
    "m"
   ]
  },
  {
   "cell_type": "code",
   "execution_count": 31,
   "metadata": {},
   "outputs": [],
   "source": [
    "def weighted_rating(x):\n",
    "    v = x['vote_count']\n",
    "    R = x['vote_average']\n",
    "    return (v/(v+m) * R) + (m/(m+v) * C)"
   ]
  },
  {
   "cell_type": "code",
   "execution_count": 32,
   "metadata": {},
   "outputs": [],
   "source": [
    "def improved_recommendations(title):\n",
    "    idx = indices[title]\n",
    "    sim_scores = list(enumerate(cosine_sim_new[idx]))\n",
    "    sim_scores = sorted(sim_scores, key=lambda x: x[1], reverse=True)\n",
    "    sim_scores = sim_scores[1:26]\n",
    "    movie_indices = [i[0] for i in sim_scores]\n",
    "    \n",
    "    movies_x = movies.iloc[movie_indices][['title', 'vote_count', 'vote_average']]\n",
    "    vote_counts = movies_x[movies_x['vote_count'].notnull()]['vote_count'].astype('int')\n",
    "    vote_averages = movies_x[movies_x['vote_average'].notnull()]['vote_average'].astype('int')\n",
    "    C = vote_averages.mean()\n",
    "    m = vote_counts.quantile(0.60)\n",
    "    qualified = movies_x[(movies_x['vote_count'] >= m) & (movies_x['vote_count'].notnull()) &\n",
    "                       (movies_x['vote_average'].notnull())]\n",
    "    qualified['vote_count'] = qualified['vote_count'].astype('int')\n",
    "    qualified['vote_average'] = qualified['vote_average'].astype('int')\n",
    "    qualified['wr'] = qualified.apply(weighted_rating, axis=1)\n",
    "    qualified = qualified.sort_values('wr', ascending=False).head(10)\n",
    "    return qualified"
   ]
  },
  {
   "cell_type": "code",
   "execution_count": 33,
   "metadata": {
    "scrolled": true
   },
   "outputs": [
    {
     "name": "stderr",
     "output_type": "stream",
     "text": [
      "/usr/local/lib/python3.7/site-packages/ipykernel_launcher.py:15: SettingWithCopyWarning: \n",
      "A value is trying to be set on a copy of a slice from a DataFrame.\n",
      "Try using .loc[row_indexer,col_indexer] = value instead\n",
      "\n",
      "See the caveats in the documentation: https://pandas.pydata.org/pandas-docs/stable/user_guide/indexing.html#returning-a-view-versus-a-copy\n",
      "  from ipykernel import kernelapp as app\n",
      "/usr/local/lib/python3.7/site-packages/ipykernel_launcher.py:16: SettingWithCopyWarning: \n",
      "A value is trying to be set on a copy of a slice from a DataFrame.\n",
      "Try using .loc[row_indexer,col_indexer] = value instead\n",
      "\n",
      "See the caveats in the documentation: https://pandas.pydata.org/pandas-docs/stable/user_guide/indexing.html#returning-a-view-versus-a-copy\n",
      "  app.launch_new_instance()\n",
      "/usr/local/lib/python3.7/site-packages/ipykernel_launcher.py:17: SettingWithCopyWarning: \n",
      "A value is trying to be set on a copy of a slice from a DataFrame.\n",
      "Try using .loc[row_indexer,col_indexer] = value instead\n",
      "\n",
      "See the caveats in the documentation: https://pandas.pydata.org/pandas-docs/stable/user_guide/indexing.html#returning-a-view-versus-a-copy\n"
     ]
    },
    {
     "data": {
      "text/html": [
       "<div>\n",
       "<style scoped>\n",
       "    .dataframe tbody tr th:only-of-type {\n",
       "        vertical-align: middle;\n",
       "    }\n",
       "\n",
       "    .dataframe tbody tr th {\n",
       "        vertical-align: top;\n",
       "    }\n",
       "\n",
       "    .dataframe thead th {\n",
       "        text-align: right;\n",
       "    }\n",
       "</style>\n",
       "<table border=\"1\" class=\"dataframe\">\n",
       "  <thead>\n",
       "    <tr style=\"text-align: right;\">\n",
       "      <th></th>\n",
       "      <th>title</th>\n",
       "      <th>vote_count</th>\n",
       "      <th>vote_average</th>\n",
       "      <th>wr</th>\n",
       "    </tr>\n",
       "  </thead>\n",
       "  <tbody>\n",
       "    <tr>\n",
       "      <th>28</th>\n",
       "      <td>The City of Lost Children</td>\n",
       "      <td>308</td>\n",
       "      <td>7</td>\n",
       "      <td>5.974588</td>\n",
       "    </tr>\n",
       "    <tr>\n",
       "      <th>38193</th>\n",
       "      <td>Wizards of Waverly Place: The Movie</td>\n",
       "      <td>323</td>\n",
       "      <td>6</td>\n",
       "      <td>5.568222</td>\n",
       "    </tr>\n",
       "    <tr>\n",
       "      <th>20474</th>\n",
       "      <td>It's Such a Beautiful Day</td>\n",
       "      <td>94</td>\n",
       "      <td>7</td>\n",
       "      <td>5.558985</td>\n",
       "    </tr>\n",
       "    <tr>\n",
       "      <th>45510</th>\n",
       "      <td>Team Thor</td>\n",
       "      <td>93</td>\n",
       "      <td>7</td>\n",
       "      <td>5.556250</td>\n",
       "    </tr>\n",
       "    <tr>\n",
       "      <th>22106</th>\n",
       "      <td>After the Dark</td>\n",
       "      <td>283</td>\n",
       "      <td>6</td>\n",
       "      <td>5.544134</td>\n",
       "    </tr>\n",
       "    <tr>\n",
       "      <th>46593</th>\n",
       "      <td>Marvel One-Shot: A Funny Thing Happened on the...</td>\n",
       "      <td>72</td>\n",
       "      <td>7</td>\n",
       "      <td>5.496332</td>\n",
       "    </tr>\n",
       "    <tr>\n",
       "      <th>7521</th>\n",
       "      <td>Frank Herbert's Dune</td>\n",
       "      <td>114</td>\n",
       "      <td>6</td>\n",
       "      <td>5.403547</td>\n",
       "    </tr>\n",
       "    <tr>\n",
       "      <th>9410</th>\n",
       "      <td>Immortal</td>\n",
       "      <td>131</td>\n",
       "      <td>5</td>\n",
       "      <td>5.189635</td>\n",
       "    </tr>\n",
       "    <tr>\n",
       "      <th>23179</th>\n",
       "      <td>The Zero Theorem</td>\n",
       "      <td>383</td>\n",
       "      <td>5</td>\n",
       "      <td>5.131143</td>\n",
       "    </tr>\n",
       "    <tr>\n",
       "      <th>19000</th>\n",
       "      <td>4:44 Last Day on Earth</td>\n",
       "      <td>48</td>\n",
       "      <td>4</td>\n",
       "      <td>5.122705</td>\n",
       "    </tr>\n",
       "  </tbody>\n",
       "</table>\n",
       "</div>"
      ],
      "text/plain": [
       "                                                   title  vote_count  \\\n",
       "28                             The City of Lost Children         308   \n",
       "38193                Wizards of Waverly Place: The Movie         323   \n",
       "20474                          It's Such a Beautiful Day          94   \n",
       "45510                                          Team Thor          93   \n",
       "22106                                     After the Dark         283   \n",
       "46593  Marvel One-Shot: A Funny Thing Happened on the...          72   \n",
       "7521                                Frank Herbert's Dune         114   \n",
       "9410                                            Immortal         131   \n",
       "23179                                   The Zero Theorem         383   \n",
       "19000                             4:44 Last Day on Earth          48   \n",
       "\n",
       "       vote_average        wr  \n",
       "28                7  5.974588  \n",
       "38193             6  5.568222  \n",
       "20474             7  5.558985  \n",
       "45510             7  5.556250  \n",
       "22106             6  5.544134  \n",
       "46593             7  5.496332  \n",
       "7521              6  5.403547  \n",
       "9410              5  5.189635  \n",
       "23179             5  5.131143  \n",
       "19000             4  5.122705  "
      ]
     },
     "execution_count": 33,
     "metadata": {},
     "output_type": "execute_result"
    }
   ],
   "source": [
    "improved_recommendations('Doctor Who: Last Christmas').head(10)"
   ]
  },
  {
   "cell_type": "code",
   "execution_count": 34,
   "metadata": {},
   "outputs": [
    {
     "name": "stderr",
     "output_type": "stream",
     "text": [
      "/usr/local/lib/python3.7/site-packages/ipykernel_launcher.py:15: SettingWithCopyWarning: \n",
      "A value is trying to be set on a copy of a slice from a DataFrame.\n",
      "Try using .loc[row_indexer,col_indexer] = value instead\n",
      "\n",
      "See the caveats in the documentation: https://pandas.pydata.org/pandas-docs/stable/user_guide/indexing.html#returning-a-view-versus-a-copy\n",
      "  from ipykernel import kernelapp as app\n",
      "/usr/local/lib/python3.7/site-packages/ipykernel_launcher.py:16: SettingWithCopyWarning: \n",
      "A value is trying to be set on a copy of a slice from a DataFrame.\n",
      "Try using .loc[row_indexer,col_indexer] = value instead\n",
      "\n",
      "See the caveats in the documentation: https://pandas.pydata.org/pandas-docs/stable/user_guide/indexing.html#returning-a-view-versus-a-copy\n",
      "  app.launch_new_instance()\n",
      "/usr/local/lib/python3.7/site-packages/ipykernel_launcher.py:17: SettingWithCopyWarning: \n",
      "A value is trying to be set on a copy of a slice from a DataFrame.\n",
      "Try using .loc[row_indexer,col_indexer] = value instead\n",
      "\n",
      "See the caveats in the documentation: https://pandas.pydata.org/pandas-docs/stable/user_guide/indexing.html#returning-a-view-versus-a-copy\n"
     ]
    },
    {
     "data": {
      "text/html": [
       "<div>\n",
       "<style scoped>\n",
       "    .dataframe tbody tr th:only-of-type {\n",
       "        vertical-align: middle;\n",
       "    }\n",
       "\n",
       "    .dataframe tbody tr th {\n",
       "        vertical-align: top;\n",
       "    }\n",
       "\n",
       "    .dataframe thead th {\n",
       "        text-align: right;\n",
       "    }\n",
       "</style>\n",
       "<table border=\"1\" class=\"dataframe\">\n",
       "  <thead>\n",
       "    <tr style=\"text-align: right;\">\n",
       "      <th></th>\n",
       "      <th>title</th>\n",
       "      <th>vote_count</th>\n",
       "      <th>vote_average</th>\n",
       "      <th>wr</th>\n",
       "    </tr>\n",
       "  </thead>\n",
       "  <tbody>\n",
       "    <tr>\n",
       "      <th>18006</th>\n",
       "      <td>The Avengers</td>\n",
       "      <td>12000</td>\n",
       "      <td>7</td>\n",
       "      <td>6.938808</td>\n",
       "    </tr>\n",
       "    <tr>\n",
       "      <th>27564</th>\n",
       "      <td>Star Wars: The Force Awakens</td>\n",
       "      <td>7993</td>\n",
       "      <td>7</td>\n",
       "      <td>6.909712</td>\n",
       "    </tr>\n",
       "    <tr>\n",
       "      <th>13738</th>\n",
       "      <td>Star Trek</td>\n",
       "      <td>4574</td>\n",
       "      <td>7</td>\n",
       "      <td>6.848072</td>\n",
       "    </tr>\n",
       "    <tr>\n",
       "      <th>21207</th>\n",
       "      <td>Star Trek Into Darkness</td>\n",
       "      <td>4479</td>\n",
       "      <td>7</td>\n",
       "      <td>6.845134</td>\n",
       "    </tr>\n",
       "    <tr>\n",
       "      <th>21356</th>\n",
       "      <td>Man of Steel</td>\n",
       "      <td>6462</td>\n",
       "      <td>6</td>\n",
       "      <td>5.952602</td>\n",
       "    </tr>\n",
       "    <tr>\n",
       "      <th>21028</th>\n",
       "      <td>Oblivion</td>\n",
       "      <td>4862</td>\n",
       "      <td>6</td>\n",
       "      <td>5.938282</td>\n",
       "    </tr>\n",
       "    <tr>\n",
       "      <th>7957</th>\n",
       "      <td>Spider-Man 2</td>\n",
       "      <td>4432</td>\n",
       "      <td>6</td>\n",
       "      <td>5.932829</td>\n",
       "    </tr>\n",
       "    <tr>\n",
       "      <th>23811</th>\n",
       "      <td>Godzilla</td>\n",
       "      <td>3232</td>\n",
       "      <td>6</td>\n",
       "      <td>5.910841</td>\n",
       "    </tr>\n",
       "    <tr>\n",
       "      <th>13931</th>\n",
       "      <td>Transformers: Revenge of the Fallen</td>\n",
       "      <td>3192</td>\n",
       "      <td>6</td>\n",
       "      <td>5.909858</td>\n",
       "    </tr>\n",
       "    <tr>\n",
       "      <th>6826</th>\n",
       "      <td>The Matrix Revolutions</td>\n",
       "      <td>3155</td>\n",
       "      <td>6</td>\n",
       "      <td>5.908928</td>\n",
       "    </tr>\n",
       "  </tbody>\n",
       "</table>\n",
       "</div>"
      ],
      "text/plain": [
       "                                     title  vote_count  vote_average        wr\n",
       "18006                         The Avengers       12000             7  6.938808\n",
       "27564         Star Wars: The Force Awakens        7993             7  6.909712\n",
       "13738                            Star Trek        4574             7  6.848072\n",
       "21207              Star Trek Into Darkness        4479             7  6.845134\n",
       "21356                         Man of Steel        6462             6  5.952602\n",
       "21028                             Oblivion        4862             6  5.938282\n",
       "7957                          Spider-Man 2        4432             6  5.932829\n",
       "23811                             Godzilla        3232             6  5.910841\n",
       "13931  Transformers: Revenge of the Fallen        3192             6  5.909858\n",
       "6826                The Matrix Revolutions        3155             6  5.908928"
      ]
     },
     "execution_count": 34,
     "metadata": {},
     "output_type": "execute_result"
    }
   ],
   "source": [
    "improved_recommendations('Avatar').head(10)"
   ]
  },
  {
   "cell_type": "code",
   "execution_count": null,
   "metadata": {},
   "outputs": [],
   "source": []
  }
 ],
 "metadata": {
  "kernelspec": {
   "display_name": "Python 3",
   "language": "python",
   "name": "python3"
  },
  "language_info": {
   "codemirror_mode": {
    "name": "ipython",
    "version": 3
   },
   "file_extension": ".py",
   "mimetype": "text/x-python",
   "name": "python",
   "nbconvert_exporter": "python",
   "pygments_lexer": "ipython3",
   "version": "3.7.6"
  }
 },
 "nbformat": 4,
 "nbformat_minor": 4
}
